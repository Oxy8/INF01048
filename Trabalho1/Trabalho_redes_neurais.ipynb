{
  "cells": [
    {
      "cell_type": "markdown",
      "metadata": {
        "id": "8g5GN3EpDn4b"
      },
      "source": [
        "\n",
        "Imports e definição do dataset."
      ]
    },
    {
      "cell_type": "code",
      "execution_count": 19,
      "metadata": {
        "id": "gpxhsZya71hk"
      },
      "outputs": [],
      "source": [
        "import tensorflow as tf\n",
        "from tensorflow import keras\n",
        "import matplotlib.pyplot as plt\n",
        "import keras"
      ]
    },
    {
      "cell_type": "markdown",
      "metadata": {
        "id": "Vc5-m031HdY0"
      },
      "source": [
        "Na célula abaixo, adicione o código para carregar os demais datasets"
      ]
    },
    {
      "cell_type": "code",
      "execution_count": 20,
      "metadata": {
        "id": "9l2VipoMHnmH"
      },
      "outputs": [],
      "source": [
        "#Inclua o código para carregar os demais datasets\n",
        "\n",
        "fashion_mnist = keras.datasets.fashion_mnist\n",
        "(fashion_mnist_train_images, fashion_mnist_train_labels), (fashion_mnist_test_images, fashion_mnist_test_labels) = fashion_mnist.load_data()\n",
        "\n",
        "mnist = keras.datasets.mnist\n",
        "(mnist_train_images, mnist_train_labels), (mnist_test_images, mnist_test_labels) = mnist.load_data()\n",
        "\n",
        "cifar100 = keras.datasets.cifar100\n",
        "(cifar100_train_images, cifar100_train_labels), (cifar100_test_images, cifar100_test_labels) = cifar100.load_data()\n",
        "\n",
        "cifar10 = keras.datasets.cifar10\n",
        "(cifar10_train_images, cifar10_train_labels), (cifar10_test_images, cifar10_test_labels) = cifar10.load_data()"
      ]
    },
    {
      "cell_type": "markdown",
      "metadata": {
        "id": "bKkBlEy1ExHj"
      },
      "source": [
        "Tarefa\n",
        "Escreva código para executar redes neurais nos seguintes datasets:\n",
        "\n",
        "MNIST (pode aproveitar o codigo existente)\n",
        "Fashion MNIST\n",
        "CIFAR-10\n",
        "CIFAR-100\n",
        "Cada execução deve ser por 10 épocas.\n",
        "\n",
        "Você deve preencher as funções a seguir para retornarem a rede neural com a melhor configuração que você conseguiu para cada dataset. O notebook deve ser entregue com a rede neural que obteve a melhor performance em cada conjunto de dados.\n",
        "\n",
        "IMPORTANTE: as funções não devem TREINAR nem AVALIAR as redes neurais, apenas instanciá-las e retorná-las.\n",
        "\n",
        "Ao final, preencha o dict results com o desempenho encontrado em cada execução."
      ]
    },
    {
      "cell_type": "code",
      "execution_count": 21,
      "metadata": {
        "id": "gN14IpXnFfCQ"
      },
      "outputs": [],
      "source": [
        "#import time\n",
        "#start_time = time.time()\n",
        "\n",
        "\n",
        "##=====================\n",
        "## fashion_mnist\n",
        "##=====================\n",
        "def get_fashion_mnist_network():\n",
        "    model = keras.Sequential([\n",
        "        tf.keras.layers.Conv2D(64, (2, 2), activation='relu', input_shape=(28, 28, 1)),\n",
        "        tf.keras.layers.Conv2D(64, kernel_size=(3, 3), activation='relu'),\n",
        "        tf.keras.layers.MaxPooling2D(pool_size=(2, 2)),\n",
        "        tf.keras.layers.Conv2D(128, kernel_size=(4, 4), activation='relu'),\n",
        "        tf.keras.layers.Conv2D(128, kernel_size=(2, 2), strides=2, activation='relu'),\n",
        "        tf.keras.layers.Conv2D(256, kernel_size=(2, 2), strides=2, activation='relu'),\n",
        "        tf.keras.layers.Dropout(0.3),\n",
        "        tf.keras.layers.Flatten(),\n",
        "        tf.keras.layers.Dense(300, activation='relu'),\n",
        "        tf.keras.layers.Dense(400, activation='relu'),\n",
        "        tf.keras.layers.Dense(10, activation='softmax')\n",
        "    ])\n",
        "\n",
        "    model.compile(optimizer='adam',\n",
        "                  loss='sparse_categorical_crossentropy',\n",
        "                  metrics=['accuracy'])\n",
        "\n",
        "    model.summary()\n",
        "\n",
        "    return model\n",
        "#model = get_fashion_mnist_network()\n",
        "#model.fit(fashion_mnist_train_images, fashion_mnist_train_labels, batch_size=2048, epochs=30)\n",
        "#test_loss, test_accuracy = model.evaluate(fashion_mnist_test_images, fashion_mnist_test_labels)\n",
        "#print(f'Acurácia no conjunto de teste (fashion_mnist): {test_accuracy * 100:.2f}%')\n",
        "\n",
        "\n",
        "##=====================\n",
        "## mnist\n",
        "##=====================\n",
        "def get_mnist_network():\n",
        "    model = keras.Sequential([\n",
        "        tf.keras.layers.Conv2D(64, kernel_size=(3, 3), activation='relu', input_shape=(28, 28, 1)),\n",
        "        tf.keras.layers.Conv2D(64, kernel_size=(3, 3), activation='relu'),\n",
        "        tf.keras.layers.MaxPooling2D(pool_size=(2, 2)),\n",
        "        tf.keras.layers.Conv2D(128, kernel_size=(4, 4), activation='relu'),\n",
        "        tf.keras.layers.Conv2D(128, kernel_size=(2, 2), strides=2, activation='relu'),\n",
        "        tf.keras.layers.Conv2D(256, kernel_size=(2, 2), strides=2, activation='relu'),\n",
        "        tf.keras.layers.Dropout(0.3),\n",
        "        tf.keras.layers.Flatten(),\n",
        "        tf.keras.layers.Dense(300, activation='relu'),\n",
        "        tf.keras.layers.Dense(400, activation='relu'),\n",
        "        tf.keras.layers.Dense(10, activation='softmax')\n",
        "    ])\n",
        "\n",
        "    model.compile(optimizer='adam',\n",
        "                  loss='sparse_categorical_crossentropy',\n",
        "                  metrics=['accuracy'])\n",
        "\n",
        "    model.summary()\n",
        "\n",
        "    return model\n",
        "#model = get_mnist_network()\n",
        "#model.fit(mnist_train_images, mnist_train_labels, batch_size=2048, epochs=30)\n",
        "#test_loss, test_accuracy = model.evaluate(mnist_test_images, mnist_test_labels)\n",
        "#print(f'Acurácia no conjunto de teste (mnist): {test_accuracy * 100:.2f}%')\n",
        "\n",
        "\n",
        "##=====================\n",
        "## cifar100\n",
        "##=====================\n",
        "def get_cifar100_network():\n",
        "    model = keras.Sequential([\n",
        "\n",
        "      tf.keras.layers.Conv2D(128, (3, 3), input_shape=(32, 32, 3)),\n",
        "      tf.keras.layers.BatchNormalization(),\n",
        "      tf.keras.layers.Activation('relu'),\n",
        "\n",
        "      tf.keras.layers.Conv2D(128, (3, 3)),\n",
        "      tf.keras.layers.BatchNormalization(),\n",
        "      tf.keras.layers.Activation('relu'),\n",
        "      tf.keras.layers.MaxPooling2D((2, 2)),\n",
        "\n",
        "\n",
        "      tf.keras.layers.Conv2D(128, (3, 3), input_shape=(32, 32, 3)),\n",
        "      tf.keras.layers.BatchNormalization(),\n",
        "      tf.keras.layers.Activation('relu'),\n",
        "\n",
        "      tf.keras.layers.Conv2D(128, (3, 3)),\n",
        "      tf.keras.layers.BatchNormalization(),\n",
        "      tf.keras.layers.Activation('relu'),\n",
        "\n",
        "      tf.keras.layers.MaxPooling2D((2, 2)),\n",
        "\n",
        "\n",
        "      tf.keras.layers.Flatten(),\n",
        "      tf.keras.layers.Dropout(0.2),\n",
        "      tf.keras.layers.Dense(512, activation='relu'),\n",
        "      tf.keras.layers.Dropout(0.2),\n",
        "      tf.keras.layers.Dense(100, activation='softmax')\n",
        "\n",
        "    ])\n",
        "\n",
        "    # Compile o modelo\n",
        "    model.compile(optimizer='adam',\n",
        "                  loss='sparse_categorical_crossentropy',\n",
        "                  metrics=['accuracy'])\n",
        "\n",
        "    model.summary()\n",
        "\n",
        "    return model\n",
        "\n",
        "#model = get_cifar100_network()\n",
        "#model.fit(cifar100_train_images, cifar100_train_labels, epochs=10)\n",
        "#test_loss, test_accuracy = model.evaluate(cifar100_test_images, cifar100_test_labels)\n",
        "#print(f'Acurácia no conjunto de teste (cifar100): {test_accuracy * 100:.2f}%')\n",
        "\n",
        "##=====================\n",
        "## cifar10\n",
        "##=====================\n",
        "def get_cifar10_network():\n",
        "    model = keras.Sequential([\n",
        "\n",
        "      tf.keras.layers.Conv2D(64, (3, 3), input_shape=(32, 32, 3)),\n",
        "      tf.keras.layers.BatchNormalization(),\n",
        "      tf.keras.layers.Activation('relu'),\n",
        "\n",
        "      tf.keras.layers.Conv2D(64, (3, 3), input_shape=(32, 32, 3) ),\n",
        "      tf.keras.layers.BatchNormalization(),\n",
        "      tf.keras.layers.Activation('relu'),\n",
        "\n",
        "      tf.keras.layers.MaxPooling2D((2, 2)),\n",
        "\n",
        "      tf.keras.layers.Conv2D(128, (3, 3), input_shape=(32, 32, 3) ),\n",
        "      tf.keras.layers.BatchNormalization(),\n",
        "      tf.keras.layers.Activation('relu'),\n",
        "\n",
        "      tf.keras.layers.Conv2D(128, (3, 3), input_shape=(32, 32, 3) ),\n",
        "      tf.keras.layers.BatchNormalization(),\n",
        "      tf.keras.layers.Activation('relu'),\n",
        "\n",
        "      tf.keras.layers.MaxPooling2D((2, 2)),\n",
        "\n",
        "      tf.keras.layers.Flatten(),\n",
        "      tf.keras.layers.Dropout(0.2),\n",
        "      tf.keras.layers.Dense(128, activation='relu'),\n",
        "      tf.keras.layers.Dropout(0.2),\n",
        "      tf.keras.layers.Dense(10, activation='softmax')\n",
        "\n",
        "    ])\n",
        "\n",
        "    # Compile o modelo\n",
        "    model.compile(optimizer='adam',\n",
        "                  loss='sparse_categorical_crossentropy',\n",
        "                  metrics=['accuracy'])\n",
        "\n",
        "    model.summary()\n",
        "\n",
        "    return model\n",
        "#model = get_cifar10_network()\n",
        "#model.fit(cifar10_train_images, cifar10_train_labels, epochs=10)\n",
        "#test_loss, test_accuracy = model.evaluate(cifar10_test_images, cifar10_test_labels)\n",
        "#print(f'Acurácia no conjunto de teste (cifar10): {test_accuracy * 100:.2f}%')\n",
        "\n",
        "\n",
        "\n",
        "\n",
        "\n",
        "#end_time = time.time()\n",
        "#total_time = end_time - start_time\n",
        "#print(f\"Total training time: {total_time:.2f} seconds\")"
      ]
    },
    {
      "cell_type": "markdown",
      "metadata": {
        "id": "iERVafMPF2Tn"
      },
      "source": [
        "Preencha o dict abaixo substituindo os None com a acuracia final (acc) e o tempo de treinamento (time) encontrado no seu experimento pra cada dataset"
      ]
    },
    {
      "cell_type": "code",
      "execution_count": 22,
      "metadata": {
        "id": "kEUK1xk6Fk48"
      },
      "outputs": [],
      "source": [
        "results = {\n",
        "    \"mnist\": {\"time\": 27.76, \"acc\": 99.27},\n",
        "    \"fashion_mnist\": {\"time\": 32.83, \"acc\": 91.76},\n",
        "    \"cifar10\": {\"time\": 41.45, \"acc\": 77.63},\n",
        "    \"cifar100\": {\"time\": 40.88, \"acc\": 45.91},\n",
        "}\n",
        "\n",
        "# Tempo em segundos e acurácia em porcentagem"
      ]
    }
  ],
  "metadata": {
    "accelerator": "GPU",
    "colab": {
      "gpuType": "T4",
      "provenance": []
    },
    "kernelspec": {
      "display_name": "Python 3",
      "name": "python3"
    },
    "language_info": {
      "codemirror_mode": {
        "name": "ipython",
        "version": 3
      },
      "file_extension": ".py",
      "mimetype": "text/x-python",
      "name": "python",
      "nbconvert_exporter": "python",
      "pygments_lexer": "ipython3",
      "version": "3.12.9"
    }
  },
  "nbformat": 4,
  "nbformat_minor": 0
}